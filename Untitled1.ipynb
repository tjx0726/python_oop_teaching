{
 "cells": [
  {
   "cell_type": "code",
   "execution_count": 96,
   "metadata": {},
   "outputs": [],
   "source": [
    "class person:\n",
    "    \n",
    "    count = 0\n",
    "    \n",
    "    def __init__(self, name, height, gender):\n",
    "        print(\"This person says hello world\")\n",
    "        self.__name = name\n",
    "        self.height = height\n",
    "        self.gender = gender\n",
    "        self.alive = True\n",
    "        person.count += 1\n",
    "        \n",
    "    def self_int(self):\n",
    "        if self.alive:\n",
    "            print(\"My name is \"+self.__name)\n",
    "        \n",
    "    def output_count(self):\n",
    "        print(person.count)\n",
    "    \n",
    "    def die(self):\n",
    "        if self.alive:\n",
    "            print(\"I'm dead.\")\n",
    "            person.count -= 1\n",
    "            \n",
    "            \n",
    "    def __random_method(self):\n",
    "        return True\n",
    "    \n",
    "    def random_method2(self):\n",
    "        if self.__random_method():\n",
    "            print(\"random_method exists\")"
   ]
  },
  {
   "cell_type": "code",
   "execution_count": 97,
   "metadata": {},
   "outputs": [],
   "source": [
    "class student(person):\n",
    "    \n",
    "    count = 0\n",
    "    \n",
    "    def __init__(self, name, height, gender, school):\n",
    "        person.__init__(self, name, height, gender)\n",
    "        self.school = school\n",
    "        student.count += 1\n",
    "        print(\"This student says hi\")\n",
    "        \n",
    "        \n",
    "    def output_count(self):\n",
    "        print(\"Number of People: \", person.count)\n",
    "        print(\"Number of Students: \", student.count)"
   ]
  },
  {
   "cell_type": "code",
   "execution_count": 98,
   "metadata": {},
   "outputs": [],
   "source": [
    "class machine():\n",
    "    \n",
    "    \n",
    "    def __init__(self, powered_by, made_of):\n",
    "        print(\"This machine is powered by \"+powered_by+\", and is made of \"+made_of)\n",
    "        \n",
    "        \n",
    "    def self_intro(self):\n",
    "        print(\"Buzz\")"
   ]
  },
  {
   "cell_type": "code",
   "execution_count": 99,
   "metadata": {},
   "outputs": [
    {
     "name": "stdout",
     "output_type": "stream",
     "text": [
      "This machine is powered by Petrol, and is made of Steel\n"
     ]
    }
   ],
   "source": [
    "car = machine(\"Petrol\", \"Steel\")"
   ]
  },
  {
   "cell_type": "code",
   "execution_count": 100,
   "metadata": {},
   "outputs": [],
   "source": [
    "class robot(person, machine):\n",
    "    \n",
    "    def __init__(self, name, height):\n",
    "        person.__init__(self, name, height, \"O\")\n",
    "        machine.__init__(self, \"Electricity\", \"Polymer\")\n",
    "        \n",
    "    def self_intro(self):\n",
    "        super().self_intro()"
   ]
  },
  {
   "cell_type": "code",
   "execution_count": 101,
   "metadata": {},
   "outputs": [
    {
     "name": "stdout",
     "output_type": "stream",
     "text": [
      "This person says hello world\n",
      "This machine is powered by Electricity, and is made of Polymer\n"
     ]
    }
   ],
   "source": [
    "r1 = robot(\"Alpha\", 180)"
   ]
  },
  {
   "cell_type": "code",
   "execution_count": 102,
   "metadata": {},
   "outputs": [
    {
     "name": "stdout",
     "output_type": "stream",
     "text": [
      "Buzz\n"
     ]
    }
   ],
   "source": [
    "r1.self_intro()"
   ]
  },
  {
   "cell_type": "code",
   "execution_count": 128,
   "metadata": {},
   "outputs": [],
   "source": [
    "class Card():\n",
    "    def __init__(self, suit, value):\n",
    "        assert(suit in [\"Heart\", \"Diamond\", \"Club\", \"Spade\"])\n",
    "        assert(value in [\"A\", \"2\", \"3\", \"4\", \"5\", \"6\", \"7\", \"8\", \"9\", \"10\", \"J\", \"Q\", \"K\"])\n",
    "        self.suit = suit\n",
    "        self.value = value\n",
    "    def show_card(self):\n",
    "        print(\"This card is a \"+self.suit+self.value)\n",
    "        \n",
    "    def __eq__(self, that):\n",
    "        if isinstance(that, Card):\n",
    "            return self.suit == that.suit and self.value == that.value\n",
    "        else:\n",
    "            return False"
   ]
  },
  {
   "cell_type": "code",
   "execution_count": 122,
   "metadata": {},
   "outputs": [],
   "source": [
    "class Deck():\n",
    "    def __init__(self):\n",
    "        self.__deck = []\n",
    "        self.__total = 52\n",
    "        for suit in [\"Heart\", \"Diamond\", \"Club\", \"Spade\"]:\n",
    "            for value in [\"A\", \"2\", \"3\", \"4\", \"5\", \"6\", \"7\", \"8\", \"9\", \"10\", \"J\", \"Q\", \"K\"]:\n",
    "                self.__deck.append(Card(suit, value))\n",
    "        self.shuffle()\n",
    "                \n",
    "    def shuffle(self):\n",
    "        import random\n",
    "        if self.__total == 52:\n",
    "            random.shuffle(self.__deck)\n",
    "        else:\n",
    "            print(\"There is no enough cards in this deck\")\n",
    "        \n",
    "    def deal(self):\n",
    "        if self.__total > 0:\n",
    "            result = self.__deck[-1]\n",
    "            self.__deck = self.__deck[:-1]\n",
    "            self.__total -= 1\n",
    "            return result\n",
    "        else:\n",
    "            print(\"There is no card in this deck\")"
   ]
  },
  {
   "cell_type": "code",
   "execution_count": 129,
   "metadata": {},
   "outputs": [],
   "source": [
    "c1 = Card(\"Diamond\", \"A\")"
   ]
  },
  {
   "cell_type": "code",
   "execution_count": 130,
   "metadata": {},
   "outputs": [],
   "source": [
    "c2 = Card(\"Diamond\", \"A\")"
   ]
  },
  {
   "cell_type": "code",
   "execution_count": 131,
   "metadata": {},
   "outputs": [
    {
     "data": {
      "text/plain": [
       "<__main__.Card at 0x1099c46a0>"
      ]
     },
     "execution_count": 131,
     "metadata": {},
     "output_type": "execute_result"
    }
   ],
   "source": [
    "c1"
   ]
  },
  {
   "cell_type": "code",
   "execution_count": 132,
   "metadata": {},
   "outputs": [
    {
     "data": {
      "text/plain": [
       "<__main__.Card at 0x109a189e8>"
      ]
     },
     "execution_count": 132,
     "metadata": {},
     "output_type": "execute_result"
    }
   ],
   "source": [
    "c2"
   ]
  },
  {
   "cell_type": "code",
   "execution_count": 133,
   "metadata": {},
   "outputs": [
    {
     "data": {
      "text/plain": [
       "True"
      ]
     },
     "execution_count": 133,
     "metadata": {},
     "output_type": "execute_result"
    }
   ],
   "source": [
    "c1 == c2"
   ]
  },
  {
   "cell_type": "code",
   "execution_count": 134,
   "metadata": {},
   "outputs": [
    {
     "data": {
      "text/plain": [
       "False"
      ]
     },
     "execution_count": 134,
     "metadata": {},
     "output_type": "execute_result"
    }
   ],
   "source": [
    "c1 == 1"
   ]
  },
  {
   "cell_type": "code",
   "execution_count": null,
   "metadata": {},
   "outputs": [],
   "source": []
  },
  {
   "cell_type": "code",
   "execution_count": null,
   "metadata": {},
   "outputs": [],
   "source": []
  },
  {
   "cell_type": "code",
   "execution_count": null,
   "metadata": {},
   "outputs": [],
   "source": []
  },
  {
   "cell_type": "code",
   "execution_count": null,
   "metadata": {},
   "outputs": [],
   "source": []
  }
 ],
 "metadata": {
  "kernelspec": {
   "display_name": "Python 3",
   "language": "python",
   "name": "python3"
  },
  "language_info": {
   "codemirror_mode": {
    "name": "ipython",
    "version": 3
   },
   "file_extension": ".py",
   "mimetype": "text/x-python",
   "name": "python",
   "nbconvert_exporter": "python",
   "pygments_lexer": "ipython3",
   "version": "3.7.2"
  }
 },
 "nbformat": 4,
 "nbformat_minor": 2
}
